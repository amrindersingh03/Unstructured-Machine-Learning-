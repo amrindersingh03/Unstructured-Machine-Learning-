{
  "nbformat": 4,
  "nbformat_minor": 0,
  "metadata": {
    "colab": {
      "provenance": [],
      "include_colab_link": true
    },
    "kernelspec": {
      "name": "python3",
      "display_name": "Python 3"
    },
    "language_info": {
      "name": "python"
    },
    "accelerator": "GPU",
    "gpuClass": "standard"
  },
  "cells": [
    {
      "cell_type": "markdown",
      "metadata": {
        "id": "view-in-github",
        "colab_type": "text"
      },
      "source": [
        "<a href=\"https://colab.research.google.com/github/amrindersingh03/Unstructured-Machine-Learning-/blob/main/Langchain_transcription_and_Semantic_search_%20using%20cohere.ipynb\" target=\"_parent\"><img src=\"https://colab.research.google.com/assets/colab-badge.svg\" alt=\"Open In Colab\"/></a>"
      ]
    },
    {
      "cell_type": "markdown",
      "source": [
        "# This notebook will transcribe a youtube video using langchain transcription , and then perform semantic search on the transcription."
      ],
      "metadata": {
        "id": "6WFk81JVP4Ip"
      }
    },
    {
      "cell_type": "code",
      "source": [
        "# Make sure you are connected to a GPU runtime"
      ],
      "metadata": {
        "id": "jdwAawIyJ6nM"
      },
      "execution_count": null,
      "outputs": []
    },
    {
      "cell_type": "markdown",
      "source": [
        "### Install pytube: Library to download audios"
      ],
      "metadata": {
        "id": "m7ph-xAht7Uk"
      }
    },
    {
      "cell_type": "code",
      "execution_count": 1,
      "metadata": {
        "colab": {
          "base_uri": "https://localhost:8080/"
        },
        "id": "NC0p1VRjIlFE",
        "outputId": "b3553491-df11-42de-911e-d9b821ab7ee8"
      },
      "outputs": [
        {
          "output_type": "stream",
          "name": "stdout",
          "text": [
            "Looking in indexes: https://pypi.org/simple, https://us-python.pkg.dev/colab-wheels/public/simple/\n",
            "Collecting pytube\n",
            "  Downloading pytube-12.1.2-py3-none-any.whl (57 kB)\n",
            "\u001b[2K     \u001b[90m━━━━━━━━━━━━━━━━━━━━━━━━━━━━━━━━━━━━━━━━\u001b[0m \u001b[32m57.0/57.0 KB\u001b[0m \u001b[31m2.3 MB/s\u001b[0m eta \u001b[36m0:00:00\u001b[0m\n",
            "\u001b[?25hInstalling collected packages: pytube\n",
            "Successfully installed pytube-12.1.2\n"
          ]
        }
      ],
      "source": [
        "pip install pytube # For audio downloading"
      ]
    },
    {
      "cell_type": "code",
      "source": [
        "# Get whisper. Whisper is a speech recognition and translation model from open AI."
      ],
      "metadata": {
        "id": "Ahlm4zYOu2Vj"
      },
      "execution_count": 2,
      "outputs": []
    },
    {
      "cell_type": "code",
      "source": [
        "pip install git+https://github.com/openai/whisper.git -q # Whisper from OpenAI transcription model"
      ],
      "metadata": {
        "colab": {
          "base_uri": "https://localhost:8080/"
        },
        "id": "2zAC6DJ5IwTk",
        "outputId": "2e4094f4-b355-41b0-a7f4-b486881d0e0c"
      },
      "execution_count": 3,
      "outputs": [
        {
          "output_type": "stream",
          "name": "stdout",
          "text": [
            "  Preparing metadata (setup.py) ... \u001b[?25l\u001b[?25hdone\n",
            "\u001b[2K     \u001b[90m━━━━━━━━━━━━━━━━━━━━━━━━━━━━━━━━━━━━━━━━\u001b[0m \u001b[32m6.3/6.3 MB\u001b[0m \u001b[31m46.1 MB/s\u001b[0m eta \u001b[36m0:00:00\u001b[0m\n",
            "\u001b[2K     \u001b[90m━━━━━━━━━━━━━━━━━━━━━━━━━━━━━━━━━━━━━━\u001b[0m \u001b[32m190.3/190.3 KB\u001b[0m \u001b[31m14.0 MB/s\u001b[0m eta \u001b[36m0:00:00\u001b[0m\n",
            "\u001b[2K     \u001b[90m━━━━━━━━━━━━━━━━━━━━━━━━━━━━━━━━━━━━━━━━\u001b[0m \u001b[32m7.6/7.6 MB\u001b[0m \u001b[31m20.3 MB/s\u001b[0m eta \u001b[36m0:00:00\u001b[0m\n",
            "\u001b[?25h  Building wheel for openai-whisper (setup.py) ... \u001b[?25l\u001b[?25hdone\n"
          ]
        }
      ]
    },
    {
      "cell_type": "code",
      "source": [
        "import whisper \n",
        "import pytube "
      ],
      "metadata": {
        "id": "8h_FeO8TI3Zn"
      },
      "execution_count": 5,
      "outputs": []
    },
    {
      "cell_type": "markdown",
      "source": [
        "### Take any youtube video that you wish to transcribe. Here, I have taken video of steve jos speech."
      ],
      "metadata": {
        "id": "O1BMaNM4vMuT"
      }
    },
    {
      "cell_type": "code",
      "source": [
        "url = \"https://www.youtube.com/watch?v=Tuw8hxrFBH8\"\n",
        "video = pytube.YouTube(url) # We now have access of that video stored in variable named \" video \""
      ],
      "metadata": {
        "id": "eOgbnvXkI50t"
      },
      "execution_count": 6,
      "outputs": []
    },
    {
      "cell_type": "code",
      "source": [
        "audio = video.streams.get_audio_only() # Extracting audio from the video\n",
        "audio.download(filename='tmp.mp3') # Downlods only audio from youtube video"
      ],
      "metadata": {
        "colab": {
          "base_uri": "https://localhost:8080/",
          "height": 35
        },
        "id": "ls2DYRxPJQmw",
        "outputId": "137574f2-2a14-49ae-a615-3179927fed08"
      },
      "execution_count": 7,
      "outputs": [
        {
          "output_type": "execute_result",
          "data": {
            "text/plain": [
              "'/content/tmp.mp3'"
            ],
            "application/vnd.google.colaboratory.intrinsic+json": {
              "type": "string"
            }
          },
          "metadata": {},
          "execution_count": 7
        }
      ]
    },
    {
      "cell_type": "code",
      "source": [
        "# Load the whisper model"
      ],
      "metadata": {
        "id": "7LjLscJSwev0"
      },
      "execution_count": 8,
      "outputs": []
    },
    {
      "cell_type": "code",
      "source": [
        "model = whisper.load_model(\"small\")"
      ],
      "metadata": {
        "colab": {
          "base_uri": "https://localhost:8080/"
        },
        "id": "LOZ6sSu1Jgm-",
        "outputId": "b41a44b6-f390-44a1-df29-f81a7dc43523"
      },
      "execution_count": 9,
      "outputs": [
        {
          "output_type": "stream",
          "name": "stderr",
          "text": [
            "100%|███████████████████████████████████████| 461M/461M [00:08<00:00, 57.1MiB/s]\n"
          ]
        }
      ]
    },
    {
      "cell_type": "code",
      "source": [
        "# Performing transcriptin on audio using whisper model \" model \""
      ],
      "metadata": {
        "id": "804NR_WbwyOE"
      },
      "execution_count": 10,
      "outputs": []
    },
    {
      "cell_type": "code",
      "source": [
        "transcription = model.transcribe('/content/tmp.mp3') # Here, transcription data is stored in the variable named \" transcription \""
      ],
      "metadata": {
        "id": "DMCQql4AJmaf"
      },
      "execution_count": 11,
      "outputs": []
    },
    {
      "cell_type": "markdown",
      "source": [
        "### Let's visualize how this transcription looks like"
      ],
      "metadata": {
        "id": "9iNEWwoNx6Wt"
      }
    },
    {
      "cell_type": "code",
      "source": [
        "transcription"
      ],
      "metadata": {
        "id": "ptDMCPajxHpD"
      },
      "execution_count": null,
      "outputs": []
    },
    {
      "cell_type": "code",
      "source": [
        "# We saw that transcription is in a dictionary form"
      ],
      "metadata": {
        "id": "bvDtOFGiyJLL"
      },
      "execution_count": null,
      "outputs": []
    },
    {
      "cell_type": "code",
      "source": [
        "res = transcription['segments'] # We have grabbed only \"segment\" from dictionary  \" transcription \""
      ],
      "metadata": {
        "id": "HS9GCRIQKogF"
      },
      "execution_count": 12,
      "outputs": []
    },
    {
      "cell_type": "code",
      "source": [
        "res"
      ],
      "metadata": {
        "id": "rkwPtpIjydLl"
      },
      "execution_count": null,
      "outputs": []
    },
    {
      "cell_type": "code",
      "source": [
        "# Let's try to arrange data in more organised and readable manner."
      ],
      "metadata": {
        "id": "T92_qX2DyqOt"
      },
      "execution_count": null,
      "outputs": []
    },
    {
      "cell_type": "code",
      "source": [
        "from datetime import datetime\n",
        "\n",
        "def store_segments(segments):\n",
        "  texts = []\n",
        "  start_times = []\n",
        "\n",
        "  for segment in segments:\n",
        "    text = segment['text']\n",
        "    start = segment['start']\n",
        "\n",
        "    # Convert the starting time to a datetime object\n",
        "    start_datetime = datetime.fromtimestamp(start)\n",
        "\n",
        "    # Format the starting time as a string in the format \"00:00:00\"\n",
        "    formatted_start_time = start_datetime.strftime('%H:%M:%S')\n",
        "\n",
        "    texts.append(\"\".join(text))\n",
        "    start_times.append(formatted_start_time)\n",
        "\n",
        "  return texts, start_times"
      ],
      "metadata": {
        "id": "lHVWts6YKuDq"
      },
      "execution_count": 13,
      "outputs": []
    },
    {
      "cell_type": "code",
      "source": [
        "store_segments(res)"
      ],
      "metadata": {
        "colab": {
          "base_uri": "https://localhost:8080/"
        },
        "id": "X4IaERsPKxKu",
        "outputId": "362178f3-fc34-421e-9a74-4d0581a40e91"
      },
      "execution_count": 14,
      "outputs": [
        {
          "output_type": "execute_result",
          "data": {
            "text/plain": [
              "([' Today, I want to tell you three stories from my life.',\n",
              "  \" That's it. No big deal. Just three stories.\",\n",
              "  ' The first story is about connecting the dots.',\n",
              "  ' I dropped out of Reed College after the first six months, but then stayed around as a drop-in',\n",
              "  \" for another 18 months or so before I really quit. So why'd I drop out?\",\n",
              "  ' It started before I was born. My biological mother was a young unwed graduate student,',\n",
              "  ' and she decided to put me up for adoption. She felt very strongly that I should be adopted by',\n",
              "  ' college graduates, so everything was all set for me to be adopted at birth by a lawyer and his wife.',\n",
              "  ' Except that when I popped out, they decided at the last minute that they really wanted a girl.',\n",
              "  ' So my parents, who were on a waiting list, got a call in the middle of the night asking,',\n",
              "  \" we've got an unexpected baby boy. Do you want him? They said, of course.\",\n",
              "  ' My biological mother found out later that my mother had never graduated from college',\n",
              "  ' and that my father had never graduated from high school. She refused to sign the final adoption papers.',\n",
              "  ' She only relented a few months later when my parents promised that I would go to college.',\n",
              "  ' This was the start in my life. And 17 years later, I did go to college,',\n",
              "  ' but I naively chose a college that was almost as expensive as Stanford.',\n",
              "  ' And all of my working-class parent savings were being spent on my college tuition.',\n",
              "  \" After six months, I couldn't see the value in it. I had no idea what I was going to do.\",\n",
              "  ' No idea what I wanted to do with my life and no idea how college was going to help me figure it out.',\n",
              "  ' And here I was, spending all the money my parents had saved their entire life.',\n",
              "  ' So I decided to drop out and trust that it would all work out okay.',\n",
              "  ' It was pretty scary at the time, but looking back, it was one of the best decisions I ever made.',\n",
              "  \" The minute I dropped out, I could stop taking the required classes that didn't interest me\",\n",
              "  ' and begin dropping in on the ones that looked far more interesting.',\n",
              "  \" It wasn't all romantic. I didn't have a dorm room, so I slept on the floor in friends' rooms.\",\n",
              "  ' I returned Coke bottles for the five-cent deposits to buy food with,',\n",
              "  ' and I would walk the seven miles across town every Sunday night',\n",
              "  ' to get one good meal a week at the Hare Krishna Temple.',\n",
              "  ' I loved it. And much of what I stumbled into by following my curiosity and intuition turned out',\n",
              "  ' to be priceless later on. Let me give you one example.',\n",
              "  ' Reed College at that time offered perhaps the best calligraphy instruction in the country.',\n",
              "  ' Throughout the campus, every poster, every label on every drawer was beautifully hand-caligraphed.',\n",
              "  \" Because I had dropped out and didn't have to take the normal classes,\",\n",
              "  ' I decided to take a calligraphy class to learn how to do this.',\n",
              "  ' I learned about serif and sans-serif typefaces, about varying the amount of space between different letter combinations,',\n",
              "  ' about what makes great typography great.',\n",
              "  \" It was beautiful, historical, artistically subtle in a way that science can't capture, and I found it fascinating.\",\n",
              "  ' None of this had even a hope of any practical application in my life.',\n",
              "  ' But ten years later, when we were designing the first Macintosh computer, it all came back to me.',\n",
              "  ' And we designed it all into the Mac. It was the first computer with beautiful typography.',\n",
              "  ' If I had never dropped in on that single course in college, the Mac would have never had multiple typefaces',\n",
              "  \" or proportionally spaced fonts. And since Windows just copied the Mac, it's likely that no personal computer would have them.\",\n",
              "  ' If I had never dropped out, I would have never dropped in on that calligraphy class,',\n",
              "  ' and personal computers might not have the wonderful typography that they do.',\n",
              "  ' Of course, it was impossible to connect the dots looking forward when I was in college,',\n",
              "  ' but it was very, very clear looking backwards ten years later.',\n",
              "  \" Again, you can't connect the dots looking forward. You can only connect them looking backwards.\",\n",
              "  ' So you have to trust that the dots will somehow connect in your future.',\n",
              "  ' You have to trust in something, your gut, destiny, life, karma, whatever.',\n",
              "  ' Because believing that the dots will connect down the road will give you the confidence to follow your heart,',\n",
              "  ' even when it leads you off the well-worn path. And that will make all the difference.',\n",
              "  ' My second story is about love and loss.',\n",
              "  ' I was lucky. I found what I was looking for.',\n",
              "  ' I found what I loved to do early in life.',\n",
              "  \" Waz and I started Apple in my parents' garage when I was 20.\",\n",
              "  ' We worked hard, and in ten years Apple had grown from just the two of us in a garage',\n",
              "  ' into a two billion dollar company with over 4,000 employees.',\n",
              "  ' We just released our finest creation, the Macintosh, a year earlier, and I just turned 30.',\n",
              "  ' And then I got fired. How can you get fired from a company you started?',\n",
              "  ' Well, as Apple grew, we hired someone who I thought was very talented to run the company with me.',\n",
              "  ' And for the first year or so, things went well. But then our visions of the future began to diverge,',\n",
              "  ' and eventually we had a falling out. When we did, our board of directors sided with him.',\n",
              "  ' And so at 30, I was out, and very publicly out.',\n",
              "  ' What had been the focus of my entire adult life was gone, and it was devastating.',\n",
              "  \" I really didn't know what to do for a few months.\",\n",
              "  ' I felt that I had let the previous generation of entrepreneurs down,',\n",
              "  ' that I had dropped the baton as it was being passed to me.',\n",
              "  ' I met with David Packard and Bob Noyce, and tried to apologize for screwing up so badly.',\n",
              "  ' I was a very public failure, and I even thought about running away from the valley.',\n",
              "  ' But something slowly began to dawn on me. I still loved what I did.',\n",
              "  ' The turn of events at Apple had not changed that one bit.',\n",
              "  \" I'd been rejected, but I was still in love. And so I decided to start over.\",\n",
              "  \" I didn't see it then, but it turned out that getting fired from Apple\",\n",
              "  ' was the best thing that could have ever happened to me.',\n",
              "  ' The heaviness of being successful was replaced by the lightness of being a beginner again,',\n",
              "  ' less sure about everything. It freed me to enter one of the most creative periods of my life.',\n",
              "  ' During the next five years, I started a company named Next,',\n",
              "  ' another company named Apple, and I started to work on it.',\n",
              "  ' I started to work on a company named Pixar, and fell in love with an amazing woman who would become my wife.',\n",
              "  \" Pixar went on to create the world's first computer-animated feature film, Toy Story,\",\n",
              "  ' and is now the most successful animation studio in the world.',\n",
              "  ' In a remarkable turn of events, Apple bought Next, and I returned to Apple.',\n",
              "  \" And the technology we developed at Next is at the heart of Apple's current renaissance.\",\n",
              "  ' And Loreen and I have a wonderful family together.',\n",
              "  \" I'm pretty sure none of this would have happened if I hadn't been fired from Apple.\",\n",
              "  ' It was awful tasting medicine, but I guess the patient needed it.',\n",
              "  \" Sometimes life's going to hit you in the head with a brick.\",\n",
              "  \" Don't lose faith.\",\n",
              "  \" I'm convinced that the only thing that kept me going was that I loved what I did.\",\n",
              "  \" You've got to find what you love, and that is as true for work as it is for your lovers.\",\n",
              "  ' Your work is going to fill a large part of your life, and the only way to be truly satisfied',\n",
              "  ' is to do what you believe is great work.',\n",
              "  ' And the only way to do great work is to love what you do.',\n",
              "  \" If you haven't found it yet, keep looking and don't settle.\",\n",
              "  \" As with all matters of the heart, you'll know when you find it.\",\n",
              "  ' And like any great relationship, it just gets better and better as the years roll on.',\n",
              "  ' So keep looking.',\n",
              "  \" Don't settle.\",\n",
              "  ' My third story is about death.',\n",
              "  ' When I was 17, I read a quote that went something like,',\n",
              "  \" if you live each day as if it was your last, someday you'll most certainly be right.\",\n",
              "  ' It made an impression on me, and since then, for the past 33 years,',\n",
              "  \" I've looked in the mirror every morning and asked myself,\",\n",
              "  ' if today were the last day of my life, what I want to do, what I am about to do today.',\n",
              "  ' And whenever the answer has been no for too many days in a row,',\n",
              "  ' I know I need to change something.',\n",
              "  \" Remembering that I'll be dead soon is the most important tool I've ever encountered\",\n",
              "  ' to help me make the big choices in life.',\n",
              "  ' Because almost everything, all external expectations, all pride,',\n",
              "  ' all fear of embarrassment or failure, these things just fall away in the face of death,',\n",
              "  ' leaving only what is truly important.',\n",
              "  ' Remembering that you are going to die is the best way I know to avoid the truth.',\n",
              "  ' The best way I know to avoid the trap of thinking you have something to lose.',\n",
              "  ' You are already naked.',\n",
              "  ' There is no reason not to follow your heart.',\n",
              "  ' No one wants to die.',\n",
              "  \" Even people who want to go to heaven don't want to die to get there.\",\n",
              "  ' And yet, death is the destination we all share.',\n",
              "  ' No one has ever escaped it.',\n",
              "  ' And that is as it should be, because death is very likely the single best invention of life.',\n",
              "  \" It's life's change agent.\",\n",
              "  ' It clears out the old to make way for the new.',\n",
              "  ' Right now, the new is you.',\n",
              "  ' But someday, not too long from now, you will gradually become the old and be cleared away.',\n",
              "  \" Sorry to be so dramatic, but it's quite true.\",\n",
              "  \" Your time is limited, so don't waste it living someone else's life.\",\n",
              "  \" Don't be trapped by dogma, which is living with the results of other people's thinking.\",\n",
              "  \" Don't let the noise of others' opinions drown out your own inner voice.\",\n",
              "  ' And most important, have the courage to follow your heart and intuition.',\n",
              "  ' They somehow already know what you truly want to become.',\n",
              "  ' Everything else is secondary.',\n",
              "  ' Stay hungry.',\n",
              "  ' Stay foolish.'],\n",
              " ['00:00:00',\n",
              "  '00:00:03',\n",
              "  '00:00:10',\n",
              "  '00:00:15',\n",
              "  '00:00:19',\n",
              "  '00:00:24',\n",
              "  '00:00:33',\n",
              "  '00:00:39',\n",
              "  '00:00:46',\n",
              "  '00:00:50',\n",
              "  '00:00:57',\n",
              "  '00:01:05',\n",
              "  '00:01:10',\n",
              "  '00:01:16',\n",
              "  '00:01:21',\n",
              "  '00:01:29',\n",
              "  '00:01:34',\n",
              "  '00:01:39',\n",
              "  '00:01:45',\n",
              "  '00:01:51',\n",
              "  '00:01:56',\n",
              "  '00:02:01',\n",
              "  '00:02:08',\n",
              "  '00:02:13',\n",
              "  '00:02:18',\n",
              "  '00:02:24',\n",
              "  '00:02:28',\n",
              "  '00:02:32',\n",
              "  '00:02:36',\n",
              "  '00:02:42',\n",
              "  '00:02:47',\n",
              "  '00:02:52',\n",
              "  '00:02:59',\n",
              "  '00:03:03',\n",
              "  '00:03:06',\n",
              "  '00:03:12',\n",
              "  '00:03:16',\n",
              "  '00:03:25',\n",
              "  '00:03:29',\n",
              "  '00:03:35',\n",
              "  '00:03:41',\n",
              "  '00:03:47',\n",
              "  '00:03:54',\n",
              "  '00:03:58',\n",
              "  '00:04:02',\n",
              "  '00:04:07',\n",
              "  '00:04:11',\n",
              "  '00:04:17',\n",
              "  '00:04:20',\n",
              "  '00:04:26',\n",
              "  '00:04:32',\n",
              "  '00:04:40',\n",
              "  '00:04:45',\n",
              "  '00:04:49',\n",
              "  '00:04:53',\n",
              "  '00:04:56',\n",
              "  '00:05:01',\n",
              "  '00:05:05',\n",
              "  '00:05:11',\n",
              "  '00:05:16',\n",
              "  '00:05:22',\n",
              "  '00:05:27',\n",
              "  '00:05:32',\n",
              "  '00:05:36',\n",
              "  '00:05:42',\n",
              "  '00:05:44',\n",
              "  '00:05:47',\n",
              "  '00:05:50',\n",
              "  '00:05:56',\n",
              "  '00:06:00',\n",
              "  '00:06:07',\n",
              "  '00:06:10',\n",
              "  '00:06:15',\n",
              "  '00:06:19',\n",
              "  '00:06:22',\n",
              "  '00:06:27',\n",
              "  '00:06:32',\n",
              "  '00:06:35',\n",
              "  '00:06:39',\n",
              "  '00:06:44',\n",
              "  '00:06:49',\n",
              "  '00:06:54',\n",
              "  '00:07:00',\n",
              "  '00:07:04',\n",
              "  '00:07:07',\n",
              "  '00:07:11',\n",
              "  '00:07:15',\n",
              "  '00:07:19',\n",
              "  '00:07:21',\n",
              "  '00:07:25',\n",
              "  '00:07:30',\n",
              "  '00:07:36',\n",
              "  '00:07:38',\n",
              "  '00:07:42',\n",
              "  '00:07:46',\n",
              "  '00:07:50',\n",
              "  '00:07:55',\n",
              "  '00:07:56',\n",
              "  '00:08:00',\n",
              "  '00:08:03',\n",
              "  '00:08:07',\n",
              "  '00:08:14',\n",
              "  '00:08:18',\n",
              "  '00:08:21',\n",
              "  '00:08:26',\n",
              "  '00:08:30',\n",
              "  '00:08:34',\n",
              "  '00:08:38',\n",
              "  '00:08:40',\n",
              "  '00:08:45',\n",
              "  '00:08:50',\n",
              "  '00:08:53',\n",
              "  '00:08:59',\n",
              "  '00:09:03',\n",
              "  '00:09:05',\n",
              "  '00:09:10',\n",
              "  '00:09:12',\n",
              "  '00:09:16',\n",
              "  '00:09:20',\n",
              "  '00:09:22',\n",
              "  '00:09:29',\n",
              "  '00:09:30',\n",
              "  '00:09:33',\n",
              "  '00:09:36',\n",
              "  '00:09:42',\n",
              "  '00:09:46',\n",
              "  '00:09:51',\n",
              "  '00:09:57',\n",
              "  '00:10:01',\n",
              "  '00:10:05',\n",
              "  '00:10:09',\n",
              "  '00:10:13',\n",
              "  '00:10:15'])"
            ]
          },
          "metadata": {},
          "execution_count": 14
        }
      ]
    },
    {
      "cell_type": "code",
      "source": [
        "texts, start_times = store_segments(res)"
      ],
      "metadata": {
        "id": "__-hrw_6LYsu"
      },
      "execution_count": 21,
      "outputs": []
    },
    {
      "cell_type": "code",
      "source": [
        "# Install langchain, to perform semantic search"
      ],
      "metadata": {
        "id": "U0kr8IJQy-Kn"
      },
      "execution_count": null,
      "outputs": []
    },
    {
      "cell_type": "code",
      "source": [
        "pip install langchain"
      ],
      "metadata": {
        "id": "7auAzAfXL1V7",
        "outputId": "0391833d-f1bb-4192-ed81-a36fe032474e",
        "colab": {
          "base_uri": "https://localhost:8080/"
        }
      },
      "execution_count": 15,
      "outputs": [
        {
          "output_type": "stream",
          "name": "stdout",
          "text": [
            "Looking in indexes: https://pypi.org/simple, https://us-python.pkg.dev/colab-wheels/public/simple/\n",
            "Collecting langchain\n",
            "  Downloading langchain-0.0.86-py3-none-any.whl (250 kB)\n",
            "\u001b[2K     \u001b[90m━━━━━━━━━━━━━━━━━━━━━━━━━━━━━━━━━━━━━━━\u001b[0m \u001b[32m250.2/250.2 KB\u001b[0m \u001b[31m9.4 MB/s\u001b[0m eta \u001b[36m0:00:00\u001b[0m\n",
            "\u001b[?25hRequirement already satisfied: pydantic<2,>=1 in /usr/local/lib/python3.8/dist-packages (from langchain) (1.10.4)\n",
            "Requirement already satisfied: requests<3,>=2 in /usr/local/lib/python3.8/dist-packages (from langchain) (2.25.1)\n",
            "Collecting dataclasses-json<0.6.0,>=0.5.7\n",
            "  Downloading dataclasses_json-0.5.7-py3-none-any.whl (25 kB)\n",
            "Requirement already satisfied: aiohttp<4.0.0,>=3.8.3 in /usr/local/lib/python3.8/dist-packages (from langchain) (3.8.3)\n",
            "Requirement already satisfied: numpy<2,>=1 in /usr/local/lib/python3.8/dist-packages (from langchain) (1.21.6)\n",
            "Requirement already satisfied: PyYAML<7,>=6 in /usr/local/lib/python3.8/dist-packages (from langchain) (6.0)\n",
            "Requirement already satisfied: tenacity<9.0.0,>=8.1.0 in /usr/local/lib/python3.8/dist-packages (from langchain) (8.2.0)\n",
            "Requirement already satisfied: SQLAlchemy<2,>=1 in /usr/local/lib/python3.8/dist-packages (from langchain) (1.4.46)\n",
            "Requirement already satisfied: async-timeout<5.0,>=4.0.0a3 in /usr/local/lib/python3.8/dist-packages (from aiohttp<4.0.0,>=3.8.3->langchain) (4.0.2)\n",
            "Requirement already satisfied: charset-normalizer<3.0,>=2.0 in /usr/local/lib/python3.8/dist-packages (from aiohttp<4.0.0,>=3.8.3->langchain) (2.1.1)\n",
            "Requirement already satisfied: yarl<2.0,>=1.0 in /usr/local/lib/python3.8/dist-packages (from aiohttp<4.0.0,>=3.8.3->langchain) (1.8.2)\n",
            "Requirement already satisfied: attrs>=17.3.0 in /usr/local/lib/python3.8/dist-packages (from aiohttp<4.0.0,>=3.8.3->langchain) (22.2.0)\n",
            "Requirement already satisfied: frozenlist>=1.1.1 in /usr/local/lib/python3.8/dist-packages (from aiohttp<4.0.0,>=3.8.3->langchain) (1.3.3)\n",
            "Requirement already satisfied: aiosignal>=1.1.2 in /usr/local/lib/python3.8/dist-packages (from aiohttp<4.0.0,>=3.8.3->langchain) (1.3.1)\n",
            "Requirement already satisfied: multidict<7.0,>=4.5 in /usr/local/lib/python3.8/dist-packages (from aiohttp<4.0.0,>=3.8.3->langchain) (6.0.4)\n",
            "Requirement already satisfied: marshmallow<4.0.0,>=3.3.0 in /usr/local/lib/python3.8/dist-packages (from dataclasses-json<0.6.0,>=0.5.7->langchain) (3.19.0)\n",
            "Collecting marshmallow-enum<2.0.0,>=1.5.1\n",
            "  Downloading marshmallow_enum-1.5.1-py2.py3-none-any.whl (4.2 kB)\n",
            "Collecting typing-inspect>=0.4.0\n",
            "  Downloading typing_inspect-0.8.0-py3-none-any.whl (8.7 kB)\n",
            "Requirement already satisfied: typing-extensions>=4.2.0 in /usr/local/lib/python3.8/dist-packages (from pydantic<2,>=1->langchain) (4.4.0)\n",
            "Requirement already satisfied: chardet<5,>=3.0.2 in /usr/local/lib/python3.8/dist-packages (from requests<3,>=2->langchain) (4.0.0)\n",
            "Requirement already satisfied: idna<3,>=2.5 in /usr/local/lib/python3.8/dist-packages (from requests<3,>=2->langchain) (2.10)\n",
            "Requirement already satisfied: urllib3<1.27,>=1.21.1 in /usr/local/lib/python3.8/dist-packages (from requests<3,>=2->langchain) (1.24.3)\n",
            "Requirement already satisfied: certifi>=2017.4.17 in /usr/local/lib/python3.8/dist-packages (from requests<3,>=2->langchain) (2022.12.7)\n",
            "Requirement already satisfied: greenlet!=0.4.17 in /usr/local/lib/python3.8/dist-packages (from SQLAlchemy<2,>=1->langchain) (2.0.2)\n",
            "Requirement already satisfied: packaging>=17.0 in /usr/local/lib/python3.8/dist-packages (from marshmallow<4.0.0,>=3.3.0->dataclasses-json<0.6.0,>=0.5.7->langchain) (23.0)\n",
            "Collecting mypy-extensions>=0.3.0\n",
            "  Downloading mypy_extensions-1.0.0-py3-none-any.whl (4.7 kB)\n",
            "Installing collected packages: mypy-extensions, typing-inspect, marshmallow-enum, dataclasses-json, langchain\n",
            "Successfully installed dataclasses-json-0.5.7 langchain-0.0.86 marshmallow-enum-1.5.1 mypy-extensions-1.0.0 typing-inspect-0.8.0\n"
          ]
        }
      ]
    },
    {
      "cell_type": "code",
      "source": [
        "pip install cohere"
      ],
      "metadata": {
        "id": "EMG0TDLoL5rr",
        "outputId": "531fdb49-d686-4262-97a8-592b2b790150",
        "colab": {
          "base_uri": "https://localhost:8080/",
          "height": 485
        }
      },
      "execution_count": 16,
      "outputs": [
        {
          "output_type": "stream",
          "name": "stdout",
          "text": [
            "Looking in indexes: https://pypi.org/simple, https://us-python.pkg.dev/colab-wheels/public/simple/\n",
            "Collecting cohere\n",
            "  Downloading cohere-3.5.0.tar.gz (13 kB)\n",
            "  Preparing metadata (setup.py) ... \u001b[?25l\u001b[?25hdone\n",
            "Requirement already satisfied: requests in /usr/local/lib/python3.8/dist-packages (from cohere) (2.25.1)\n",
            "Collecting urllib3~=1.26\n",
            "  Downloading urllib3-1.26.14-py2.py3-none-any.whl (140 kB)\n",
            "\u001b[2K     \u001b[90m━━━━━━━━━━━━━━━━━━━━━━━━━━━━━━━━━━━━━━━\u001b[0m \u001b[32m140.6/140.6 KB\u001b[0m \u001b[31m6.8 MB/s\u001b[0m eta \u001b[36m0:00:00\u001b[0m\n",
            "\u001b[?25hRequirement already satisfied: chardet<5,>=3.0.2 in /usr/local/lib/python3.8/dist-packages (from requests->cohere) (4.0.0)\n",
            "Requirement already satisfied: certifi>=2017.4.17 in /usr/local/lib/python3.8/dist-packages (from requests->cohere) (2022.12.7)\n",
            "Requirement already satisfied: idna<3,>=2.5 in /usr/local/lib/python3.8/dist-packages (from requests->cohere) (2.10)\n",
            "Building wheels for collected packages: cohere\n",
            "  Building wheel for cohere (setup.py) ... \u001b[?25l\u001b[?25hdone\n",
            "  Created wheel for cohere: filename=cohere-3.5.0-cp38-cp38-linux_x86_64.whl size=16265 sha256=a08d0d01ec47e556bf2ecdbe00188c596965fc9018d33c16c08716a6ec46c524\n",
            "  Stored in directory: /root/.cache/pip/wheels/c3/2c/25/0696f1aa599c730e68d48caafb6fc8ff2b1870ea451336e7ff\n",
            "Successfully built cohere\n",
            "Installing collected packages: urllib3, cohere\n",
            "  Attempting uninstall: urllib3\n",
            "    Found existing installation: urllib3 1.24.3\n",
            "    Uninstalling urllib3-1.24.3:\n",
            "      Successfully uninstalled urllib3-1.24.3\n",
            "Successfully installed cohere-3.5.0 urllib3-1.26.14\n"
          ]
        },
        {
          "output_type": "display_data",
          "data": {
            "application/vnd.colab-display-data+json": {
              "pip_warning": {
                "packages": [
                  "urllib3"
                ]
              }
            }
          },
          "metadata": {}
        }
      ]
    },
    {
      "cell_type": "code",
      "source": [
        "pip install --upgrade faiss-gpu==1.7.1"
      ],
      "metadata": {
        "colab": {
          "base_uri": "https://localhost:8080/"
        },
        "id": "7TNi-J7FMAlT",
        "outputId": "e0482f25-e22e-4952-c280-1b72ac388d88"
      },
      "execution_count": 17,
      "outputs": [
        {
          "output_type": "stream",
          "name": "stdout",
          "text": [
            "Looking in indexes: https://pypi.org/simple, https://us-python.pkg.dev/colab-wheels/public/simple/\n",
            "Collecting faiss-gpu==1.7.1\n",
            "  Downloading faiss_gpu-1.7.1-cp38-cp38-manylinux_2_17_x86_64.manylinux2014_x86_64.whl (89.7 MB)\n",
            "\u001b[2K     \u001b[90m━━━━━━━━━━━━━━━━━━━━━━━━━━━━━━━━━━━━━━━━\u001b[0m \u001b[32m89.7/89.7 MB\u001b[0m \u001b[31m10.6 MB/s\u001b[0m eta \u001b[36m0:00:00\u001b[0m\n",
            "\u001b[?25hInstalling collected packages: faiss-gpu\n",
            "Successfully installed faiss-gpu-1.7.1\n"
          ]
        }
      ]
    },
    {
      "cell_type": "code",
      "source": [
        "from langchain.embeddings import CohereEmbeddings\n",
        "from langchain.text_splitter import CharacterTextSplitter\n",
        "from langchain.vectorstores.faiss import FAISS\n",
        "from langchain.chains import VectorDBQAWithSourcesChain\n",
        "from langchain import Cohere\n",
        "import cohere\n",
        "import faiss"
      ],
      "metadata": {
        "id": "sJvI6zAcLpDZ"
      },
      "execution_count": 18,
      "outputs": []
    },
    {
      "cell_type": "code",
      "source": [
        "import os\n",
        "os.environ[\"COHERE_API_KEY\"] = \"7aVorhk322RAlLriOgJlo6Tf6E1MbRk5lBWPXsxw\""
      ],
      "metadata": {
        "id": "eU40XsWdMHJH"
      },
      "execution_count": 19,
      "outputs": []
    },
    {
      "cell_type": "code",
      "source": [
        "text_splitter = CharacterTextSplitter(chunk_size=1500, separator=\"\\n\")\n",
        "docs = []\n",
        "metadatas = []\n",
        "for i, d in enumerate(texts):\n",
        "    splits = text_splitter.split_text(d)\n",
        "    docs.extend(splits)\n",
        "    metadatas.extend([{\"source\": start_times[i]}] * len(splits))\n",
        "# embeddings = OpenAIEmbeddings()\n",
        "embeddings = CohereEmbeddings(cohere_api_key=\"7aVorhk322RAlLriOgJlo6Tf6E1MbRk5lBWPXsxw\" )"
      ],
      "metadata": {
        "id": "6ZylCKSqMLm-"
      },
      "execution_count": 29,
      "outputs": []
    },
    {
      "cell_type": "code",
      "source": [
        "# !apt install libomp-dev\n",
        "# !python -m pip install --upgrade faiss faiss-gpu\n",
        "# import faiss"
      ],
      "metadata": {
        "id": "8nMOPGxkd1MS"
      },
      "execution_count": null,
      "outputs": []
    },
    {
      "cell_type": "code",
      "source": [
        "docs"
      ],
      "metadata": {
        "id": "8OdkmRWjiLPl",
        "outputId": "4771a5c6-2254-4c6b-ca21-378c9f950baa",
        "colab": {
          "base_uri": "https://localhost:8080/"
        }
      },
      "execution_count": 25,
      "outputs": [
        {
          "output_type": "execute_result",
          "data": {
            "text/plain": [
              "['Today, I want to tell you three stories from my life.',\n",
              " \"That's it. No big deal. Just three stories.\",\n",
              " 'The first story is about connecting the dots.',\n",
              " 'I dropped out of Reed College after the first six months, but then stayed around as a drop-in',\n",
              " \"for another 18 months or so before I really quit. So why'd I drop out?\",\n",
              " 'It started before I was born. My biological mother was a young unwed graduate student,',\n",
              " 'and she decided to put me up for adoption. She felt very strongly that I should be adopted by',\n",
              " 'college graduates, so everything was all set for me to be adopted at birth by a lawyer and his wife.',\n",
              " 'Except that when I popped out, they decided at the last minute that they really wanted a girl.',\n",
              " 'So my parents, who were on a waiting list, got a call in the middle of the night asking,',\n",
              " \"we've got an unexpected baby boy. Do you want him? They said, of course.\",\n",
              " 'My biological mother found out later that my mother had never graduated from college',\n",
              " 'and that my father had never graduated from high school. She refused to sign the final adoption papers.',\n",
              " 'She only relented a few months later when my parents promised that I would go to college.',\n",
              " 'This was the start in my life. And 17 years later, I did go to college,',\n",
              " 'but I naively chose a college that was almost as expensive as Stanford.',\n",
              " 'And all of my working-class parent savings were being spent on my college tuition.',\n",
              " \"After six months, I couldn't see the value in it. I had no idea what I was going to do.\",\n",
              " 'No idea what I wanted to do with my life and no idea how college was going to help me figure it out.',\n",
              " 'And here I was, spending all the money my parents had saved their entire life.',\n",
              " 'So I decided to drop out and trust that it would all work out okay.',\n",
              " 'It was pretty scary at the time, but looking back, it was one of the best decisions I ever made.',\n",
              " \"The minute I dropped out, I could stop taking the required classes that didn't interest me\",\n",
              " 'and begin dropping in on the ones that looked far more interesting.',\n",
              " \"It wasn't all romantic. I didn't have a dorm room, so I slept on the floor in friends' rooms.\",\n",
              " 'I returned Coke bottles for the five-cent deposits to buy food with,',\n",
              " 'and I would walk the seven miles across town every Sunday night',\n",
              " 'to get one good meal a week at the Hare Krishna Temple.',\n",
              " 'I loved it. And much of what I stumbled into by following my curiosity and intuition turned out',\n",
              " 'to be priceless later on. Let me give you one example.',\n",
              " 'Reed College at that time offered perhaps the best calligraphy instruction in the country.',\n",
              " 'Throughout the campus, every poster, every label on every drawer was beautifully hand-caligraphed.',\n",
              " \"Because I had dropped out and didn't have to take the normal classes,\",\n",
              " 'I decided to take a calligraphy class to learn how to do this.',\n",
              " 'I learned about serif and sans-serif typefaces, about varying the amount of space between different letter combinations,',\n",
              " 'about what makes great typography great.',\n",
              " \"It was beautiful, historical, artistically subtle in a way that science can't capture, and I found it fascinating.\",\n",
              " 'None of this had even a hope of any practical application in my life.',\n",
              " 'But ten years later, when we were designing the first Macintosh computer, it all came back to me.',\n",
              " 'And we designed it all into the Mac. It was the first computer with beautiful typography.',\n",
              " 'If I had never dropped in on that single course in college, the Mac would have never had multiple typefaces',\n",
              " \"or proportionally spaced fonts. And since Windows just copied the Mac, it's likely that no personal computer would have them.\",\n",
              " 'If I had never dropped out, I would have never dropped in on that calligraphy class,',\n",
              " 'and personal computers might not have the wonderful typography that they do.',\n",
              " 'Of course, it was impossible to connect the dots looking forward when I was in college,',\n",
              " 'but it was very, very clear looking backwards ten years later.',\n",
              " \"Again, you can't connect the dots looking forward. You can only connect them looking backwards.\",\n",
              " 'So you have to trust that the dots will somehow connect in your future.',\n",
              " 'You have to trust in something, your gut, destiny, life, karma, whatever.',\n",
              " 'Because believing that the dots will connect down the road will give you the confidence to follow your heart,',\n",
              " 'even when it leads you off the well-worn path. And that will make all the difference.',\n",
              " 'My second story is about love and loss.',\n",
              " 'I was lucky. I found what I was looking for.',\n",
              " 'I found what I loved to do early in life.',\n",
              " \"Waz and I started Apple in my parents' garage when I was 20.\",\n",
              " 'We worked hard, and in ten years Apple had grown from just the two of us in a garage',\n",
              " 'into a two billion dollar company with over 4,000 employees.',\n",
              " 'We just released our finest creation, the Macintosh, a year earlier, and I just turned 30.',\n",
              " 'And then I got fired. How can you get fired from a company you started?',\n",
              " 'Well, as Apple grew, we hired someone who I thought was very talented to run the company with me.',\n",
              " 'And for the first year or so, things went well. But then our visions of the future began to diverge,',\n",
              " 'and eventually we had a falling out. When we did, our board of directors sided with him.',\n",
              " 'And so at 30, I was out, and very publicly out.',\n",
              " 'What had been the focus of my entire adult life was gone, and it was devastating.',\n",
              " \"I really didn't know what to do for a few months.\",\n",
              " 'I felt that I had let the previous generation of entrepreneurs down,',\n",
              " 'that I had dropped the baton as it was being passed to me.',\n",
              " 'I met with David Packard and Bob Noyce, and tried to apologize for screwing up so badly.',\n",
              " 'I was a very public failure, and I even thought about running away from the valley.',\n",
              " 'But something slowly began to dawn on me. I still loved what I did.',\n",
              " 'The turn of events at Apple had not changed that one bit.',\n",
              " \"I'd been rejected, but I was still in love. And so I decided to start over.\",\n",
              " \"I didn't see it then, but it turned out that getting fired from Apple\",\n",
              " 'was the best thing that could have ever happened to me.',\n",
              " 'The heaviness of being successful was replaced by the lightness of being a beginner again,',\n",
              " 'less sure about everything. It freed me to enter one of the most creative periods of my life.',\n",
              " 'During the next five years, I started a company named Next,',\n",
              " 'another company named Apple, and I started to work on it.',\n",
              " 'I started to work on a company named Pixar, and fell in love with an amazing woman who would become my wife.',\n",
              " \"Pixar went on to create the world's first computer-animated feature film, Toy Story,\",\n",
              " 'and is now the most successful animation studio in the world.',\n",
              " 'In a remarkable turn of events, Apple bought Next, and I returned to Apple.',\n",
              " \"And the technology we developed at Next is at the heart of Apple's current renaissance.\",\n",
              " 'And Loreen and I have a wonderful family together.',\n",
              " \"I'm pretty sure none of this would have happened if I hadn't been fired from Apple.\",\n",
              " 'It was awful tasting medicine, but I guess the patient needed it.',\n",
              " \"Sometimes life's going to hit you in the head with a brick.\",\n",
              " \"Don't lose faith.\",\n",
              " \"I'm convinced that the only thing that kept me going was that I loved what I did.\",\n",
              " \"You've got to find what you love, and that is as true for work as it is for your lovers.\",\n",
              " 'Your work is going to fill a large part of your life, and the only way to be truly satisfied',\n",
              " 'is to do what you believe is great work.',\n",
              " 'And the only way to do great work is to love what you do.',\n",
              " \"If you haven't found it yet, keep looking and don't settle.\",\n",
              " \"As with all matters of the heart, you'll know when you find it.\",\n",
              " 'And like any great relationship, it just gets better and better as the years roll on.',\n",
              " 'So keep looking.',\n",
              " \"Don't settle.\",\n",
              " 'My third story is about death.',\n",
              " 'When I was 17, I read a quote that went something like,',\n",
              " \"if you live each day as if it was your last, someday you'll most certainly be right.\",\n",
              " 'It made an impression on me, and since then, for the past 33 years,',\n",
              " \"I've looked in the mirror every morning and asked myself,\",\n",
              " 'if today were the last day of my life, what I want to do, what I am about to do today.',\n",
              " 'And whenever the answer has been no for too many days in a row,',\n",
              " 'I know I need to change something.',\n",
              " \"Remembering that I'll be dead soon is the most important tool I've ever encountered\",\n",
              " 'to help me make the big choices in life.',\n",
              " 'Because almost everything, all external expectations, all pride,',\n",
              " 'all fear of embarrassment or failure, these things just fall away in the face of death,',\n",
              " 'leaving only what is truly important.',\n",
              " 'Remembering that you are going to die is the best way I know to avoid the truth.',\n",
              " 'The best way I know to avoid the trap of thinking you have something to lose.',\n",
              " 'You are already naked.',\n",
              " 'There is no reason not to follow your heart.',\n",
              " 'No one wants to die.',\n",
              " \"Even people who want to go to heaven don't want to die to get there.\",\n",
              " 'And yet, death is the destination we all share.',\n",
              " 'No one has ever escaped it.',\n",
              " 'And that is as it should be, because death is very likely the single best invention of life.',\n",
              " \"It's life's change agent.\",\n",
              " 'It clears out the old to make way for the new.',\n",
              " 'Right now, the new is you.',\n",
              " 'But someday, not too long from now, you will gradually become the old and be cleared away.',\n",
              " \"Sorry to be so dramatic, but it's quite true.\",\n",
              " \"Your time is limited, so don't waste it living someone else's life.\",\n",
              " \"Don't be trapped by dogma, which is living with the results of other people's thinking.\",\n",
              " \"Don't let the noise of others' opinions drown out your own inner voice.\",\n",
              " 'And most important, have the courage to follow your heart and intuition.',\n",
              " 'They somehow already know what you truly want to become.',\n",
              " 'Everything else is secondary.',\n",
              " 'Stay hungry.',\n",
              " 'Stay foolish.']"
            ]
          },
          "metadata": {},
          "execution_count": 25
        }
      ]
    },
    {
      "cell_type": "code",
      "source": [
        "embeddings"
      ],
      "metadata": {
        "id": "EOAlAi_viR6b",
        "outputId": "33ad7423-9264-4ac0-adb4-7ea74d02ed9c",
        "colab": {
          "base_uri": "https://localhost:8080/"
        }
      },
      "execution_count": 30,
      "outputs": [
        {
          "output_type": "execute_result",
          "data": {
            "text/plain": [
              "CohereEmbeddings(client=<cohere.client.Client object at 0x7f31514dc610>, model='large', truncate='NONE', cohere_api_key='7aVorhk322RAlLriOgJlo6Tf6E1MbRk5lBWPXsxw')"
            ]
          },
          "metadata": {},
          "execution_count": 30
        }
      ]
    },
    {
      "cell_type": "code",
      "source": [
        "metadatas"
      ],
      "metadata": {
        "id": "-CuhoXB6i9wK"
      },
      "execution_count": null,
      "outputs": []
    },
    {
      "cell_type": "code",
      "source": [
        "store = FAISS.from_texts(docs, embeddings)\n",
        "faiss.write_index(store.index, \"docs.index\")"
      ],
      "metadata": {
        "id": "VScsZ_MzMRuv",
        "outputId": "5cebb73f-ebef-44fa-9f8b-2c2df182efa1",
        "colab": {
          "base_uri": "https://localhost:8080/",
          "height": 328
        }
      },
      "execution_count": 34,
      "outputs": [
        {
          "output_type": "error",
          "ename": "TypeError",
          "evalue": "ignored",
          "traceback": [
            "\u001b[0;31m---------------------------------------------------------------------------\u001b[0m",
            "\u001b[0;31mTypeError\u001b[0m                                 Traceback (most recent call last)",
            "\u001b[0;32m<ipython-input-34-9888cf6ad7ab>\u001b[0m in \u001b[0;36m<module>\u001b[0;34m\u001b[0m\n\u001b[0;32m----> 1\u001b[0;31m \u001b[0mstore\u001b[0m \u001b[0;34m=\u001b[0m \u001b[0mFAISS\u001b[0m\u001b[0;34m.\u001b[0m\u001b[0mfrom_texts\u001b[0m\u001b[0;34m(\u001b[0m\u001b[0mdocs\u001b[0m\u001b[0;34m,\u001b[0m \u001b[0membeddings\u001b[0m\u001b[0;34m)\u001b[0m\u001b[0;34m\u001b[0m\u001b[0;34m\u001b[0m\u001b[0m\n\u001b[0m\u001b[1;32m      2\u001b[0m \u001b[0mfaiss\u001b[0m\u001b[0;34m.\u001b[0m\u001b[0mwrite_index\u001b[0m\u001b[0;34m(\u001b[0m\u001b[0mstore\u001b[0m\u001b[0;34m.\u001b[0m\u001b[0mindex\u001b[0m\u001b[0;34m,\u001b[0m \u001b[0;34m\"docs.index\"\u001b[0m\u001b[0;34m)\u001b[0m\u001b[0;34m\u001b[0m\u001b[0;34m\u001b[0m\u001b[0m\n",
            "\u001b[0;32m/usr/local/lib/python3.8/dist-packages/langchain/vectorstores/faiss.py\u001b[0m in \u001b[0;36mfrom_texts\u001b[0;34m(cls, texts, embedding, metadatas, **kwargs)\u001b[0m\n\u001b[1;32m    191\u001b[0m         \"\"\"\n\u001b[1;32m    192\u001b[0m         \u001b[0mfaiss\u001b[0m \u001b[0;34m=\u001b[0m \u001b[0mdependable_faiss_import\u001b[0m\u001b[0;34m(\u001b[0m\u001b[0;34m)\u001b[0m\u001b[0;34m\u001b[0m\u001b[0;34m\u001b[0m\u001b[0m\n\u001b[0;32m--> 193\u001b[0;31m         \u001b[0membeddings\u001b[0m \u001b[0;34m=\u001b[0m \u001b[0membedding\u001b[0m\u001b[0;34m.\u001b[0m\u001b[0membed_documents\u001b[0m\u001b[0;34m(\u001b[0m\u001b[0mtexts\u001b[0m\u001b[0;34m)\u001b[0m\u001b[0;34m\u001b[0m\u001b[0;34m\u001b[0m\u001b[0m\n\u001b[0m\u001b[1;32m    194\u001b[0m         \u001b[0mindex\u001b[0m \u001b[0;34m=\u001b[0m \u001b[0mfaiss\u001b[0m\u001b[0;34m.\u001b[0m\u001b[0mIndexFlatL2\u001b[0m\u001b[0;34m(\u001b[0m\u001b[0mlen\u001b[0m\u001b[0;34m(\u001b[0m\u001b[0membeddings\u001b[0m\u001b[0;34m[\u001b[0m\u001b[0;36m0\u001b[0m\u001b[0;34m]\u001b[0m\u001b[0;34m)\u001b[0m\u001b[0;34m)\u001b[0m\u001b[0;34m\u001b[0m\u001b[0;34m\u001b[0m\u001b[0m\n\u001b[1;32m    195\u001b[0m         \u001b[0mindex\u001b[0m\u001b[0;34m.\u001b[0m\u001b[0madd\u001b[0m\u001b[0;34m(\u001b[0m\u001b[0mnp\u001b[0m\u001b[0;34m.\u001b[0m\u001b[0marray\u001b[0m\u001b[0;34m(\u001b[0m\u001b[0membeddings\u001b[0m\u001b[0;34m,\u001b[0m \u001b[0mdtype\u001b[0m\u001b[0;34m=\u001b[0m\u001b[0mnp\u001b[0m\u001b[0;34m.\u001b[0m\u001b[0mfloat32\u001b[0m\u001b[0;34m)\u001b[0m\u001b[0;34m)\u001b[0m\u001b[0;34m\u001b[0m\u001b[0;34m\u001b[0m\u001b[0m\n",
            "\u001b[0;32m/usr/local/lib/python3.8/dist-packages/langchain/embeddings/cohere.py\u001b[0m in \u001b[0;36membed_documents\u001b[0;34m(self, texts)\u001b[0m\n\u001b[1;32m     62\u001b[0m             \u001b[0mList\u001b[0m \u001b[0mof\u001b[0m \u001b[0membeddings\u001b[0m\u001b[0;34m,\u001b[0m \u001b[0mone\u001b[0m \u001b[0;32mfor\u001b[0m \u001b[0meach\u001b[0m \u001b[0mtext\u001b[0m\u001b[0;34m.\u001b[0m\u001b[0;34m\u001b[0m\u001b[0;34m\u001b[0m\u001b[0m\n\u001b[1;32m     63\u001b[0m         \"\"\"\n\u001b[0;32m---> 64\u001b[0;31m         embeddings = self.client.embed(\n\u001b[0m\u001b[1;32m     65\u001b[0m             \u001b[0mmodel\u001b[0m\u001b[0;34m=\u001b[0m\u001b[0mself\u001b[0m\u001b[0;34m.\u001b[0m\u001b[0mmodel\u001b[0m\u001b[0;34m,\u001b[0m \u001b[0mtexts\u001b[0m\u001b[0;34m=\u001b[0m\u001b[0mtexts\u001b[0m\u001b[0;34m,\u001b[0m \u001b[0mtruncate\u001b[0m\u001b[0;34m=\u001b[0m\u001b[0mself\u001b[0m\u001b[0;34m.\u001b[0m\u001b[0mtruncate\u001b[0m\u001b[0;34m\u001b[0m\u001b[0;34m\u001b[0m\u001b[0m\n\u001b[1;32m     66\u001b[0m         ).embeddings\n",
            "\u001b[0;32m/usr/local/lib/python3.8/dist-packages/cohere/client.py\u001b[0m in \u001b[0;36membed\u001b[0;34m(self, texts, model, truncate)\u001b[0m\n\u001b[1;32m    243\u001b[0m                 \u001b[0mresponses\u001b[0m\u001b[0;34m.\u001b[0m\u001b[0mappend\u001b[0m\u001b[0;34m(\u001b[0m\u001b[0mresponse\u001b[0m\u001b[0;34m[\u001b[0m\u001b[0;34m'embeddings'\u001b[0m\u001b[0;34m]\u001b[0m\u001b[0;34m)\u001b[0m\u001b[0;34m\u001b[0m\u001b[0;34m\u001b[0m\u001b[0m\n\u001b[1;32m    244\u001b[0m         \u001b[0;32melse\u001b[0m\u001b[0;34m:\u001b[0m\u001b[0;34m\u001b[0m\u001b[0;34m\u001b[0m\u001b[0m\n\u001b[0;32m--> 245\u001b[0;31m             for result in self._executor.map(lambda json_body: self.__request(cohere.EMBED_URL, json=json_body),\n\u001b[0m\u001b[1;32m    246\u001b[0m                                              json_bodys):\n\u001b[1;32m    247\u001b[0m                 \u001b[0mresponses\u001b[0m\u001b[0;34m.\u001b[0m\u001b[0mextend\u001b[0m\u001b[0;34m(\u001b[0m\u001b[0mresult\u001b[0m\u001b[0;34m[\u001b[0m\u001b[0;34m'embeddings'\u001b[0m\u001b[0;34m]\u001b[0m\u001b[0;34m)\u001b[0m\u001b[0;34m\u001b[0m\u001b[0;34m\u001b[0m\u001b[0m\n",
            "\u001b[0;32m/usr/lib/python3.8/concurrent/futures/_base.py\u001b[0m in \u001b[0;36mresult_iterator\u001b[0;34m()\u001b[0m\n\u001b[1;32m    617\u001b[0m                     \u001b[0;31m# Careful not to keep a reference to the popped future\u001b[0m\u001b[0;34m\u001b[0m\u001b[0;34m\u001b[0m\u001b[0;34m\u001b[0m\u001b[0m\n\u001b[1;32m    618\u001b[0m                     \u001b[0;32mif\u001b[0m \u001b[0mtimeout\u001b[0m \u001b[0;32mis\u001b[0m \u001b[0;32mNone\u001b[0m\u001b[0;34m:\u001b[0m\u001b[0;34m\u001b[0m\u001b[0;34m\u001b[0m\u001b[0m\n\u001b[0;32m--> 619\u001b[0;31m                         \u001b[0;32myield\u001b[0m \u001b[0mfs\u001b[0m\u001b[0;34m.\u001b[0m\u001b[0mpop\u001b[0m\u001b[0;34m(\u001b[0m\u001b[0;34m)\u001b[0m\u001b[0;34m.\u001b[0m\u001b[0mresult\u001b[0m\u001b[0;34m(\u001b[0m\u001b[0;34m)\u001b[0m\u001b[0;34m\u001b[0m\u001b[0;34m\u001b[0m\u001b[0m\n\u001b[0m\u001b[1;32m    620\u001b[0m                     \u001b[0;32melse\u001b[0m\u001b[0;34m:\u001b[0m\u001b[0;34m\u001b[0m\u001b[0;34m\u001b[0m\u001b[0m\n\u001b[1;32m    621\u001b[0m                         \u001b[0;32myield\u001b[0m \u001b[0mfs\u001b[0m\u001b[0;34m.\u001b[0m\u001b[0mpop\u001b[0m\u001b[0;34m(\u001b[0m\u001b[0;34m)\u001b[0m\u001b[0;34m.\u001b[0m\u001b[0mresult\u001b[0m\u001b[0;34m(\u001b[0m\u001b[0mend_time\u001b[0m \u001b[0;34m-\u001b[0m \u001b[0mtime\u001b[0m\u001b[0;34m.\u001b[0m\u001b[0mmonotonic\u001b[0m\u001b[0;34m(\u001b[0m\u001b[0;34m)\u001b[0m\u001b[0;34m)\u001b[0m\u001b[0;34m\u001b[0m\u001b[0;34m\u001b[0m\u001b[0m\n",
            "\u001b[0;32m/usr/lib/python3.8/concurrent/futures/_base.py\u001b[0m in \u001b[0;36mresult\u001b[0;34m(self, timeout)\u001b[0m\n\u001b[1;32m    442\u001b[0m                     \u001b[0;32mraise\u001b[0m \u001b[0mCancelledError\u001b[0m\u001b[0;34m(\u001b[0m\u001b[0;34m)\u001b[0m\u001b[0;34m\u001b[0m\u001b[0;34m\u001b[0m\u001b[0m\n\u001b[1;32m    443\u001b[0m                 \u001b[0;32melif\u001b[0m \u001b[0mself\u001b[0m\u001b[0;34m.\u001b[0m\u001b[0m_state\u001b[0m \u001b[0;34m==\u001b[0m \u001b[0mFINISHED\u001b[0m\u001b[0;34m:\u001b[0m\u001b[0;34m\u001b[0m\u001b[0;34m\u001b[0m\u001b[0m\n\u001b[0;32m--> 444\u001b[0;31m                     \u001b[0;32mreturn\u001b[0m \u001b[0mself\u001b[0m\u001b[0;34m.\u001b[0m\u001b[0m__get_result\u001b[0m\u001b[0;34m(\u001b[0m\u001b[0;34m)\u001b[0m\u001b[0;34m\u001b[0m\u001b[0;34m\u001b[0m\u001b[0m\n\u001b[0m\u001b[1;32m    445\u001b[0m                 \u001b[0;32melse\u001b[0m\u001b[0;34m:\u001b[0m\u001b[0;34m\u001b[0m\u001b[0;34m\u001b[0m\u001b[0m\n\u001b[1;32m    446\u001b[0m                     \u001b[0;32mraise\u001b[0m \u001b[0mTimeoutError\u001b[0m\u001b[0;34m(\u001b[0m\u001b[0;34m)\u001b[0m\u001b[0;34m\u001b[0m\u001b[0;34m\u001b[0m\u001b[0m\n",
            "\u001b[0;32m/usr/lib/python3.8/concurrent/futures/_base.py\u001b[0m in \u001b[0;36m__get_result\u001b[0;34m(self)\u001b[0m\n\u001b[1;32m    387\u001b[0m         \u001b[0;32mif\u001b[0m \u001b[0mself\u001b[0m\u001b[0;34m.\u001b[0m\u001b[0m_exception\u001b[0m\u001b[0;34m:\u001b[0m\u001b[0;34m\u001b[0m\u001b[0;34m\u001b[0m\u001b[0m\n\u001b[1;32m    388\u001b[0m             \u001b[0;32mtry\u001b[0m\u001b[0;34m:\u001b[0m\u001b[0;34m\u001b[0m\u001b[0;34m\u001b[0m\u001b[0m\n\u001b[0;32m--> 389\u001b[0;31m                 \u001b[0;32mraise\u001b[0m \u001b[0mself\u001b[0m\u001b[0;34m.\u001b[0m\u001b[0m_exception\u001b[0m\u001b[0;34m\u001b[0m\u001b[0;34m\u001b[0m\u001b[0m\n\u001b[0m\u001b[1;32m    390\u001b[0m             \u001b[0;32mfinally\u001b[0m\u001b[0;34m:\u001b[0m\u001b[0;34m\u001b[0m\u001b[0;34m\u001b[0m\u001b[0m\n\u001b[1;32m    391\u001b[0m                 \u001b[0;31m# Break a reference cycle with the exception in self._exception\u001b[0m\u001b[0;34m\u001b[0m\u001b[0;34m\u001b[0m\u001b[0;34m\u001b[0m\u001b[0m\n",
            "\u001b[0;32m/usr/lib/python3.8/concurrent/futures/thread.py\u001b[0m in \u001b[0;36mrun\u001b[0;34m(self)\u001b[0m\n\u001b[1;32m     55\u001b[0m \u001b[0;34m\u001b[0m\u001b[0m\n\u001b[1;32m     56\u001b[0m         \u001b[0;32mtry\u001b[0m\u001b[0;34m:\u001b[0m\u001b[0;34m\u001b[0m\u001b[0;34m\u001b[0m\u001b[0m\n\u001b[0;32m---> 57\u001b[0;31m             \u001b[0mresult\u001b[0m \u001b[0;34m=\u001b[0m \u001b[0mself\u001b[0m\u001b[0;34m.\u001b[0m\u001b[0mfn\u001b[0m\u001b[0;34m(\u001b[0m\u001b[0;34m*\u001b[0m\u001b[0mself\u001b[0m\u001b[0;34m.\u001b[0m\u001b[0margs\u001b[0m\u001b[0;34m,\u001b[0m \u001b[0;34m**\u001b[0m\u001b[0mself\u001b[0m\u001b[0;34m.\u001b[0m\u001b[0mkwargs\u001b[0m\u001b[0;34m)\u001b[0m\u001b[0;34m\u001b[0m\u001b[0;34m\u001b[0m\u001b[0m\n\u001b[0m\u001b[1;32m     58\u001b[0m         \u001b[0;32mexcept\u001b[0m \u001b[0mBaseException\u001b[0m \u001b[0;32mas\u001b[0m \u001b[0mexc\u001b[0m\u001b[0;34m:\u001b[0m\u001b[0;34m\u001b[0m\u001b[0;34m\u001b[0m\u001b[0m\n\u001b[1;32m     59\u001b[0m             \u001b[0mself\u001b[0m\u001b[0;34m.\u001b[0m\u001b[0mfuture\u001b[0m\u001b[0;34m.\u001b[0m\u001b[0mset_exception\u001b[0m\u001b[0;34m(\u001b[0m\u001b[0mexc\u001b[0m\u001b[0;34m)\u001b[0m\u001b[0;34m\u001b[0m\u001b[0;34m\u001b[0m\u001b[0m\n",
            "\u001b[0;32m/usr/local/lib/python3.8/dist-packages/cohere/client.py\u001b[0m in \u001b[0;36m<lambda>\u001b[0;34m(json_body)\u001b[0m\n\u001b[1;32m    243\u001b[0m                 \u001b[0mresponses\u001b[0m\u001b[0;34m.\u001b[0m\u001b[0mappend\u001b[0m\u001b[0;34m(\u001b[0m\u001b[0mresponse\u001b[0m\u001b[0;34m[\u001b[0m\u001b[0;34m'embeddings'\u001b[0m\u001b[0;34m]\u001b[0m\u001b[0;34m)\u001b[0m\u001b[0;34m\u001b[0m\u001b[0;34m\u001b[0m\u001b[0m\n\u001b[1;32m    244\u001b[0m         \u001b[0;32melse\u001b[0m\u001b[0;34m:\u001b[0m\u001b[0;34m\u001b[0m\u001b[0;34m\u001b[0m\u001b[0m\n\u001b[0;32m--> 245\u001b[0;31m             for result in self._executor.map(lambda json_body: self.__request(cohere.EMBED_URL, json=json_body),\n\u001b[0m\u001b[1;32m    246\u001b[0m                                              json_bodys):\n\u001b[1;32m    247\u001b[0m                 \u001b[0mresponses\u001b[0m\u001b[0;34m.\u001b[0m\u001b[0mextend\u001b[0m\u001b[0;34m(\u001b[0m\u001b[0mresult\u001b[0m\u001b[0;34m[\u001b[0m\u001b[0;34m'embeddings'\u001b[0m\u001b[0;34m]\u001b[0m\u001b[0;34m)\u001b[0m\u001b[0;34m\u001b[0m\u001b[0;34m\u001b[0m\u001b[0m\n",
            "\u001b[0;32m/usr/local/lib/python3.8/dist-packages/cohere/client.py\u001b[0m in \u001b[0;36m__request\u001b[0;34m(self, endpoint, json)\u001b[0m\n\u001b[1;32m    461\u001b[0m         \u001b[0;32melse\u001b[0m\u001b[0;34m:\u001b[0m\u001b[0;34m\u001b[0m\u001b[0;34m\u001b[0m\u001b[0m\n\u001b[1;32m    462\u001b[0m             \u001b[0;32mwith\u001b[0m \u001b[0mrequests\u001b[0m\u001b[0;34m.\u001b[0m\u001b[0mSession\u001b[0m\u001b[0;34m(\u001b[0m\u001b[0;34m)\u001b[0m \u001b[0;32mas\u001b[0m \u001b[0msession\u001b[0m\u001b[0;34m:\u001b[0m\u001b[0;34m\u001b[0m\u001b[0;34m\u001b[0m\u001b[0m\n\u001b[0;32m--> 463\u001b[0;31m                 retries = Retry(\n\u001b[0m\u001b[1;32m    464\u001b[0m                     \u001b[0mtotal\u001b[0m\u001b[0;34m=\u001b[0m\u001b[0mself\u001b[0m\u001b[0;34m.\u001b[0m\u001b[0mmax_retries\u001b[0m\u001b[0;34m,\u001b[0m\u001b[0;34m\u001b[0m\u001b[0;34m\u001b[0m\u001b[0m\n\u001b[1;32m    465\u001b[0m                     \u001b[0mbackoff_factor\u001b[0m\u001b[0;34m=\u001b[0m\u001b[0;36m0.5\u001b[0m\u001b[0;34m,\u001b[0m\u001b[0;34m\u001b[0m\u001b[0;34m\u001b[0m\u001b[0m\n",
            "\u001b[0;31mTypeError\u001b[0m: __init__() got an unexpected keyword argument 'allowed_methods'"
          ]
        }
      ]
    },
    {
      "cell_type": "code",
      "source": [
        "chain = VectorDBQAWithSourcesChain.from_llm(llm=OpenAI(temperature=0), vectorstore=store)"
      ],
      "metadata": {
        "id": "tk-fzMBgMt9g",
        "outputId": "011bc1c5-27be-4695-80b5-e09e312fe674",
        "colab": {
          "base_uri": "https://localhost:8080/",
          "height": 165
        }
      },
      "execution_count": null,
      "outputs": [
        {
          "output_type": "error",
          "ename": "NameError",
          "evalue": "ignored",
          "traceback": [
            "\u001b[0;31m---------------------------------------------------------------------------\u001b[0m",
            "\u001b[0;31mNameError\u001b[0m                                 Traceback (most recent call last)",
            "\u001b[0;32m<ipython-input-20-3f5f935eeee5>\u001b[0m in \u001b[0;36m<module>\u001b[0;34m\u001b[0m\n\u001b[0;32m----> 1\u001b[0;31m \u001b[0mchain\u001b[0m \u001b[0;34m=\u001b[0m \u001b[0mVectorDBQAWithSourcesChain\u001b[0m\u001b[0;34m.\u001b[0m\u001b[0mfrom_llm\u001b[0m\u001b[0;34m(\u001b[0m\u001b[0mllm\u001b[0m\u001b[0;34m=\u001b[0m\u001b[0mOpenAI\u001b[0m\u001b[0;34m(\u001b[0m\u001b[0mtemperature\u001b[0m\u001b[0;34m=\u001b[0m\u001b[0;36m0\u001b[0m\u001b[0;34m)\u001b[0m\u001b[0;34m,\u001b[0m \u001b[0mvectorstore\u001b[0m\u001b[0;34m=\u001b[0m\u001b[0mstore\u001b[0m\u001b[0;34m)\u001b[0m\u001b[0;34m\u001b[0m\u001b[0;34m\u001b[0m\u001b[0m\n\u001b[0m",
            "\u001b[0;31mNameError\u001b[0m: name 'store' is not defined"
          ]
        }
      ]
    },
    {
      "cell_type": "code",
      "source": [
        "from google.colab import drive\n",
        "drive.mount('/content/drive')"
      ],
      "metadata": {
        "id": "2aPjaLB_Gps6"
      },
      "execution_count": null,
      "outputs": []
    },
    {
      "cell_type": "code",
      "source": [
        "result = chain({\"question\": \"How old was Steve Jobs when started Apple?\"})"
      ],
      "metadata": {
        "id": "8JUgPLpnNOvJ"
      },
      "execution_count": null,
      "outputs": []
    },
    {
      "cell_type": "code",
      "source": [
        "print(f\"Answer: {result['answer']}  Sources: {result['sources']}\")"
      ],
      "metadata": {
        "colab": {
          "base_uri": "https://localhost:8080/"
        },
        "id": "du4gg4C1NX_h",
        "outputId": "23822e3d-a4be-4a9d-a361-19623e8773e7"
      },
      "execution_count": null,
      "outputs": [
        {
          "output_type": "stream",
          "name": "stdout",
          "text": [
            "Answer:  Steve Jobs was 20 when he started Apple.  Sources: 00:05:47, 00:05:59\n"
          ]
        }
      ]
    }
  ]
}