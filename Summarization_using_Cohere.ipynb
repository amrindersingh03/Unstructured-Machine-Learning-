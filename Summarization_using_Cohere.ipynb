{
  "cells": [
    {
      "cell_type": "markdown",
      "metadata": {
        "id": "view-in-github",
        "colab_type": "text"
      },
      "source": [
        "<a href=\"https://colab.research.google.com/github/amrindersingh03/Unstructured-Machine-Learning-/blob/main/Summarization_using_Cohere.ipynb\" target=\"_parent\"><img src=\"https://colab.research.google.com/assets/colab-badge.svg\" alt=\"Open In Colab\"/></a>"
      ]
    },
    {
      "cell_type": "markdown",
      "metadata": {
        "id": "J8BjXeY2UcnN"
      },
      "source": [
        "# Summarization with the help of Generation Models\n",
        "This notebook shows how to use Cohere's Generation models to summarize text.\n",
        "\n",
        "<img src=\"https://github.com/cohere-ai/notebooks/raw/main/notebooks/images/summarization.png\"\n",
        "    style=\"width:100%; max-width:600px\" alt=\"provided with the right prompt, a language model can generate multiple candidate summaries\" />\n",
        "\n",
        "This will be a few shot learning where we will use two examples and a task description  in a prompt.\n",
        "\n"
      ]
    },
    {
      "cell_type": "code",
      "execution_count": null,
      "metadata": {
        "colab": {
          "base_uri": "https://localhost:8080/"
        },
        "id": "EqdDiovEBRLw",
        "outputId": "f1a861f3-50f7-4daf-fa6f-cf3a84cb0da2"
      },
      "outputs": [
        {
          "output_type": "stream",
          "name": "stdout",
          "text": [
            "Looking in indexes: https://pypi.org/simple, https://us-python.pkg.dev/colab-wheels/public/simple/\n",
            "Collecting cohere\n",
            "  Downloading cohere-3.2.3.tar.gz (11 kB)\n",
            "  Preparing metadata (setup.py) ... \u001b[?25l\u001b[?25hdone\n",
            "Requirement already satisfied: requests in /usr/local/lib/python3.8/dist-packages (from cohere) (2.25.1)\n",
            "Collecting urllib3~=1.26\n",
            "  Downloading urllib3-1.26.14-py2.py3-none-any.whl (140 kB)\n",
            "\u001b[2K     \u001b[90m━━━━━━━━━━━━━━━━━━━━━━━━━━━━━━━━━━━━━━━\u001b[0m \u001b[32m140.6/140.6 KB\u001b[0m \u001b[31m2.4 MB/s\u001b[0m eta \u001b[36m0:00:00\u001b[0m\n",
            "\u001b[?25hRequirement already satisfied: idna<3,>=2.5 in /usr/local/lib/python3.8/dist-packages (from requests->cohere) (2.10)\n",
            "Requirement already satisfied: chardet<5,>=3.0.2 in /usr/local/lib/python3.8/dist-packages (from requests->cohere) (4.0.0)\n",
            "Requirement already satisfied: certifi>=2017.4.17 in /usr/local/lib/python3.8/dist-packages (from requests->cohere) (2022.12.7)\n",
            "Building wheels for collected packages: cohere\n",
            "  Building wheel for cohere (setup.py) ... \u001b[?25l\u001b[?25hdone\n",
            "  Created wheel for cohere: filename=cohere-3.2.3-cp38-cp38-linux_x86_64.whl size=13276 sha256=2c3eab1f10e7fa90585998437a4d1ce1d0b2fa926924ea254bde7208f6ce3609\n",
            "  Stored in directory: /root/.cache/pip/wheels/d2/ed/57/fbe64110cedea8626c3281cb4eb2049d5df6be37e620d4efeb\n",
            "Successfully built cohere\n",
            "Installing collected packages: urllib3, cohere\n",
            "  Attempting uninstall: urllib3\n",
            "    Found existing installation: urllib3 1.24.3\n",
            "    Uninstalling urllib3-1.24.3:\n",
            "      Successfully uninstalled urllib3-1.24.3\n",
            "Successfully installed cohere-3.2.3 urllib3-1.26.14\n"
          ]
        }
      ],
      "source": [
        "# Let's first install Cohere's python SDK\n",
        "!pip install cohere"
      ]
    },
    {
      "cell_type": "code",
      "execution_count": null,
      "metadata": {
        "id": "Hf-3hMa7BOkU"
      },
      "outputs": [],
      "source": [
        "# Set up Cohere Client using API key\n",
        "import cohere\n",
        "import time\n",
        "import pandas as pd\n",
        "# Paste your API key here. Remember to not share it publicly \n",
        "api_key = 'CCM8A7NqnXZatYRsJ383wgyUHSwYRqMO0fcNgsNm'\n",
        "co = cohere.Client(api_key)"
      ]
    },
    {
      "cell_type": "markdown",
      "metadata": {
        "id": "bOzfT9gJFfDl"
      },
      "source": [
        "\n",
        "Our prompt is geared for paraphrasing to simplify an input sentence. It contains two examples. The sentence we want it to summarize is:\n",
        "\n",
        "**Killer whales have a diverse diet, although individual populations often specialize in particular types of prey.**"
      ]
    },
    {
      "cell_type": "code",
      "execution_count": null,
      "metadata": {
        "colab": {
          "base_uri": "https://localhost:8080/"
        },
        "id": "douHOfl0JJq-",
        "outputId": "fbb42341-f1d3-487f-ae1c-a7562cbac61e"
      },
      "outputs": [
        {
          "output_type": "stream",
          "name": "stdout",
          "text": [
            "\"The killer whale or orca (Orcinus orca) is a toothed whale belonging to the oceanic dolphin family, of which it is the largest member\"\n",
            "In summary: \"The killer whale or orca is the largest type of dolphin\"\n",
            "---\n",
            "\"It is recognizable by its black-and-white patterned body\" \n",
            "In summary:\"Its body has a black and white pattern\"\n",
            "---\n",
            "\"Killer whales have a diverse diet, although individual populations often specialize in particular types of prey\" \n",
            "In summary:\"\n"
          ]
        }
      ],
      "source": [
        "# Since we are using few shot learning, we are providing two summary examples in our prompt\n",
        "prompt = '''\"The killer whale or orca (Orcinus orca) is a toothed whale belonging to the oceanic dolphin family, of which it is the largest member\"\n",
        "In summary: \"The killer whale or orca is the largest type of dolphin\"\n",
        "---\n",
        "\"It is recognizable by its black-and-white patterned body\" \n",
        "In summary:\"Its body has a black and white pattern\"\n",
        "---\n",
        "\"Killer whales have a diverse diet, although individual populations often specialize in particular types of prey\" \n",
        "In summary:\"'''\n",
        "print(prompt)"
      ]
    },
    {
      "cell_type": "markdown",
      "metadata": {
        "id": "m3PO3HH6FqzQ"
      },
      "source": [
        "We get several completions from the model via the API"
      ]
    },
    {
      "cell_type": "code",
      "execution_count": null,
      "metadata": {
        "id": "s6wsSRKaBcai"
      },
      "outputs": [],
      "source": [
        "# Generate predictions using Cohere's model. Make sure to use the latest available model\n",
        "n_generations = 5\n",
        "\n",
        "prediction = co.generate(\n",
        "    model='xlarge',\n",
        "    prompt=prompt,\n",
        "    return_likelihoods = 'GENERATION',\n",
        "    stop_sequences=['\"'],\n",
        "    max_tokens=50,\n",
        "    temperature=0.7,\n",
        "    num_generations=n_generations,\n",
        "    k=0,\n",
        "    p=0.75)\n"
      ]
    },
    {
      "cell_type": "code",
      "execution_count": null,
      "metadata": {
        "id": "M22Q5JzioW9f"
      },
      "outputs": [],
      "source": [
        "# Get list of generations\n",
        "gens = []\n",
        "likelihoods = []\n",
        "for gen in prediction.generations:\n",
        "    gens.append(gen.text)\n",
        "    \n",
        "    sum_likelihood = 0\n",
        "    for t in gen.token_likelihoods:\n",
        "        sum_likelihood += t.likelihood\n",
        "    # Get sum of likelihoods\n",
        "    likelihoods.append(sum_likelihood)\n"
      ]
    },
    {
      "cell_type": "code",
      "execution_count": null,
      "metadata": {
        "id": "2sLwp-3ABiVj"
      },
      "outputs": [],
      "source": [
        "pd.options.display.max_colwidth = 200\n",
        "# Create a dataframe for the generated sentences and their likelihood scores\n",
        "df = pd.DataFrame({'generation':gens, 'likelihood': likelihoods})\n",
        "# Drop duplicates\n",
        "df = df.drop_duplicates(subset=['generation'])\n",
        "# Sort by highest sum likelihood\n",
        "df = df.sort_values('likelihood', ascending=False, ignore_index=True)\n",
        "print('Candidate summaries for the sentence: \\n\"Killer whales have a diverse diet, although individual populations often specialize in particular types of prey.\"')\n",
        "df"
      ]
    },
    {
      "cell_type": "markdown",
      "metadata": {
        "id": "M3HM7go_tebY"
      },
      "source": [
        "In a lot of cases, better generations can be reached by creating multiple generations then ranking and filtering them. In this case we're ranking the generations by their average likelihoods. \n",
        "\n",
        "## Hyperparameters\n",
        "It's worth spending some time learning the various hyperparameters of the generation endpoint. For example, [temperature](https://docs.cohere.ai/temperature-wiki) tunes the degree of randomness in the generations. Other parameters include [top-k and top-p](https://docs.cohere.ai/token-picking) as well as `frequency_penalty` and `presence_penalty` which can reduce the amount of repetition in the output of the model. See the [API reference of the generate endpoint](https://docs.cohere.ai/generate-reference) for more details on all the parameters."
      ]
    },
    {
      "cell_type": "code",
      "execution_count": null,
      "metadata": {
        "id": "Ybv-_EQ6oW9j"
      },
      "outputs": [],
      "source": []
    }
  ],
  "metadata": {
    "colab": {
      "provenance": [],
      "include_colab_link": true
    },
    "kernelspec": {
      "display_name": "Python 3 (ipykernel)",
      "language": "python",
      "name": "python3"
    },
    "language_info": {
      "codemirror_mode": {
        "name": "ipython",
        "version": 3
      },
      "file_extension": ".py",
      "mimetype": "text/x-python",
      "name": "python",
      "nbconvert_exporter": "python",
      "pygments_lexer": "ipython3",
      "version": "3.9.7"
    }
  },
  "nbformat": 4,
  "nbformat_minor": 0
}